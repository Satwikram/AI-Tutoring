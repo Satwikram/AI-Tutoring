{
  "nbformat": 4,
  "nbformat_minor": 0,
  "metadata": {
    "colab": {
      "provenance": [],
      "include_colab_link": true
    },
    "kernelspec": {
      "name": "python3",
      "display_name": "Python 3"
    },
    "language_info": {
      "name": "python"
    },
    "accelerator": "GPU",
    "gpuClass": "standard"
  },
  "cells": [
    {
      "cell_type": "markdown",
      "metadata": {
        "id": "view-in-github",
        "colab_type": "text"
      },
      "source": [
        "<a href=\"https://colab.research.google.com/github/Satwikram/AI-Tutoring/blob/main/CV/Sign%20Language%20Recognition.ipynb\" target=\"_parent\"><img src=\"https://colab.research.google.com/assets/colab-badge.svg\" alt=\"Open In Colab\"/></a>"
      ]
    },
    {
      "cell_type": "markdown",
      "metadata": {
        "id": "3NSvLs1Dgs3T"
      },
      "source": [
        "### Author: Satwik Ram K"
      ]
    },
    {
      "cell_type": "markdown",
      "metadata": {
        "id": "KDKyOkyBgwAm"
      },
      "source": [
        "### Connecting to Kaggle"
      ]
    },
    {
      "cell_type": "code",
      "metadata": {
        "colab": {
          "base_uri": "https://localhost:8080/",
          "height": 73
        },
        "id": "DG39ezB_gj4v",
        "outputId": "f0649214-e71d-4f46-9dab-79534c5715cc"
      },
      "source": [
        "from google.colab import files\n",
        "\n",
        "files.upload()\n",
        "\n",
        "\n",
        "! mkdir ~/.kaggle\n",
        "\n",
        "\n",
        "! cp kaggle.json ~/.kaggle/\n",
        "\n",
        "! chmod 600 ~/.kaggle/kaggle.json"
      ],
      "execution_count": 1,
      "outputs": [
        {
          "output_type": "display_data",
          "data": {
            "text/plain": [
              "<IPython.core.display.HTML object>"
            ],
            "text/html": [
              "\n",
              "     <input type=\"file\" id=\"files-a963e7b0-7e99-4f70-9671-7df7f4136cec\" name=\"files[]\" multiple disabled\n",
              "        style=\"border:none\" />\n",
              "     <output id=\"result-a963e7b0-7e99-4f70-9671-7df7f4136cec\">\n",
              "      Upload widget is only available when the cell has been executed in the\n",
              "      current browser session. Please rerun this cell to enable.\n",
              "      </output>\n",
              "      <script>// Copyright 2017 Google LLC\n",
              "//\n",
              "// Licensed under the Apache License, Version 2.0 (the \"License\");\n",
              "// you may not use this file except in compliance with the License.\n",
              "// You may obtain a copy of the License at\n",
              "//\n",
              "//      http://www.apache.org/licenses/LICENSE-2.0\n",
              "//\n",
              "// Unless required by applicable law or agreed to in writing, software\n",
              "// distributed under the License is distributed on an \"AS IS\" BASIS,\n",
              "// WITHOUT WARRANTIES OR CONDITIONS OF ANY KIND, either express or implied.\n",
              "// See the License for the specific language governing permissions and\n",
              "// limitations under the License.\n",
              "\n",
              "/**\n",
              " * @fileoverview Helpers for google.colab Python module.\n",
              " */\n",
              "(function(scope) {\n",
              "function span(text, styleAttributes = {}) {\n",
              "  const element = document.createElement('span');\n",
              "  element.textContent = text;\n",
              "  for (const key of Object.keys(styleAttributes)) {\n",
              "    element.style[key] = styleAttributes[key];\n",
              "  }\n",
              "  return element;\n",
              "}\n",
              "\n",
              "// Max number of bytes which will be uploaded at a time.\n",
              "const MAX_PAYLOAD_SIZE = 100 * 1024;\n",
              "\n",
              "function _uploadFiles(inputId, outputId) {\n",
              "  const steps = uploadFilesStep(inputId, outputId);\n",
              "  const outputElement = document.getElementById(outputId);\n",
              "  // Cache steps on the outputElement to make it available for the next call\n",
              "  // to uploadFilesContinue from Python.\n",
              "  outputElement.steps = steps;\n",
              "\n",
              "  return _uploadFilesContinue(outputId);\n",
              "}\n",
              "\n",
              "// This is roughly an async generator (not supported in the browser yet),\n",
              "// where there are multiple asynchronous steps and the Python side is going\n",
              "// to poll for completion of each step.\n",
              "// This uses a Promise to block the python side on completion of each step,\n",
              "// then passes the result of the previous step as the input to the next step.\n",
              "function _uploadFilesContinue(outputId) {\n",
              "  const outputElement = document.getElementById(outputId);\n",
              "  const steps = outputElement.steps;\n",
              "\n",
              "  const next = steps.next(outputElement.lastPromiseValue);\n",
              "  return Promise.resolve(next.value.promise).then((value) => {\n",
              "    // Cache the last promise value to make it available to the next\n",
              "    // step of the generator.\n",
              "    outputElement.lastPromiseValue = value;\n",
              "    return next.value.response;\n",
              "  });\n",
              "}\n",
              "\n",
              "/**\n",
              " * Generator function which is called between each async step of the upload\n",
              " * process.\n",
              " * @param {string} inputId Element ID of the input file picker element.\n",
              " * @param {string} outputId Element ID of the output display.\n",
              " * @return {!Iterable<!Object>} Iterable of next steps.\n",
              " */\n",
              "function* uploadFilesStep(inputId, outputId) {\n",
              "  const inputElement = document.getElementById(inputId);\n",
              "  inputElement.disabled = false;\n",
              "\n",
              "  const outputElement = document.getElementById(outputId);\n",
              "  outputElement.innerHTML = '';\n",
              "\n",
              "  const pickedPromise = new Promise((resolve) => {\n",
              "    inputElement.addEventListener('change', (e) => {\n",
              "      resolve(e.target.files);\n",
              "    });\n",
              "  });\n",
              "\n",
              "  const cancel = document.createElement('button');\n",
              "  inputElement.parentElement.appendChild(cancel);\n",
              "  cancel.textContent = 'Cancel upload';\n",
              "  const cancelPromise = new Promise((resolve) => {\n",
              "    cancel.onclick = () => {\n",
              "      resolve(null);\n",
              "    };\n",
              "  });\n",
              "\n",
              "  // Wait for the user to pick the files.\n",
              "  const files = yield {\n",
              "    promise: Promise.race([pickedPromise, cancelPromise]),\n",
              "    response: {\n",
              "      action: 'starting',\n",
              "    }\n",
              "  };\n",
              "\n",
              "  cancel.remove();\n",
              "\n",
              "  // Disable the input element since further picks are not allowed.\n",
              "  inputElement.disabled = true;\n",
              "\n",
              "  if (!files) {\n",
              "    return {\n",
              "      response: {\n",
              "        action: 'complete',\n",
              "      }\n",
              "    };\n",
              "  }\n",
              "\n",
              "  for (const file of files) {\n",
              "    const li = document.createElement('li');\n",
              "    li.append(span(file.name, {fontWeight: 'bold'}));\n",
              "    li.append(span(\n",
              "        `(${file.type || 'n/a'}) - ${file.size} bytes, ` +\n",
              "        `last modified: ${\n",
              "            file.lastModifiedDate ? file.lastModifiedDate.toLocaleDateString() :\n",
              "                                    'n/a'} - `));\n",
              "    const percent = span('0% done');\n",
              "    li.appendChild(percent);\n",
              "\n",
              "    outputElement.appendChild(li);\n",
              "\n",
              "    const fileDataPromise = new Promise((resolve) => {\n",
              "      const reader = new FileReader();\n",
              "      reader.onload = (e) => {\n",
              "        resolve(e.target.result);\n",
              "      };\n",
              "      reader.readAsArrayBuffer(file);\n",
              "    });\n",
              "    // Wait for the data to be ready.\n",
              "    let fileData = yield {\n",
              "      promise: fileDataPromise,\n",
              "      response: {\n",
              "        action: 'continue',\n",
              "      }\n",
              "    };\n",
              "\n",
              "    // Use a chunked sending to avoid message size limits. See b/62115660.\n",
              "    let position = 0;\n",
              "    do {\n",
              "      const length = Math.min(fileData.byteLength - position, MAX_PAYLOAD_SIZE);\n",
              "      const chunk = new Uint8Array(fileData, position, length);\n",
              "      position += length;\n",
              "\n",
              "      const base64 = btoa(String.fromCharCode.apply(null, chunk));\n",
              "      yield {\n",
              "        response: {\n",
              "          action: 'append',\n",
              "          file: file.name,\n",
              "          data: base64,\n",
              "        },\n",
              "      };\n",
              "\n",
              "      let percentDone = fileData.byteLength === 0 ?\n",
              "          100 :\n",
              "          Math.round((position / fileData.byteLength) * 100);\n",
              "      percent.textContent = `${percentDone}% done`;\n",
              "\n",
              "    } while (position < fileData.byteLength);\n",
              "  }\n",
              "\n",
              "  // All done.\n",
              "  yield {\n",
              "    response: {\n",
              "      action: 'complete',\n",
              "    }\n",
              "  };\n",
              "}\n",
              "\n",
              "scope.google = scope.google || {};\n",
              "scope.google.colab = scope.google.colab || {};\n",
              "scope.google.colab._files = {\n",
              "  _uploadFiles,\n",
              "  _uploadFilesContinue,\n",
              "};\n",
              "})(self);\n",
              "</script> "
            ]
          },
          "metadata": {}
        },
        {
          "output_type": "stream",
          "name": "stdout",
          "text": [
            "Saving kaggle.json to kaggle.json\n"
          ]
        }
      ]
    },
    {
      "cell_type": "code",
      "metadata": {
        "colab": {
          "base_uri": "https://localhost:8080/"
        },
        "id": "cTHm_NHxhtSX",
        "outputId": "e94f1e78-bcfd-46f5-e81c-0dec7432b834"
      },
      "source": [
        "!kaggle datasets download -d ahmedkhanak1995/sign-language-gesture-images-dataset"
      ],
      "execution_count": 2,
      "outputs": [
        {
          "output_type": "stream",
          "name": "stdout",
          "text": [
            "Downloading sign-language-gesture-images-dataset.zip to /content\n",
            " 99% 189M/191M [00:02<00:00, 105MB/s] \n",
            "100% 191M/191M [00:02<00:00, 89.5MB/s]\n"
          ]
        }
      ]
    },
    {
      "cell_type": "markdown",
      "metadata": {
        "id": "ivt6WFHbiCO0"
      },
      "source": [
        "### Unzipping the dataset"
      ]
    },
    {
      "cell_type": "code",
      "metadata": {
        "id": "68_ap6rEh-Mf"
      },
      "source": [
        "!unzip /content/sign-language-gesture-images-dataset.zip"
      ],
      "execution_count": null,
      "outputs": []
    },
    {
      "cell_type": "markdown",
      "source": [
        "### Setup"
      ],
      "metadata": {
        "id": "-cA6FZtZEoSo"
      }
    },
    {
      "cell_type": "code",
      "source": [
        "!pip install livelossplot"
      ],
      "metadata": {
        "id": "CmpP4QOUEpiz"
      },
      "execution_count": null,
      "outputs": []
    },
    {
      "cell_type": "markdown",
      "metadata": {
        "id": "7Nxeh0kpopWS"
      },
      "source": [
        "### Importing Dependencies"
      ]
    },
    {
      "cell_type": "code",
      "metadata": {
        "id": "un_IHP0diJT7"
      },
      "source": [
        "import numpy as np\n",
        "import pandas as pd\n",
        "import os\n",
        "import shutil\n",
        "import matplotlib.pyplot as plt\n",
        "import cv2\n",
        "import tensorflow as tf\n",
        "from tqdm import tqdm\n",
        "import random\n",
        "\n",
        "from pathlib import Path\n",
        "\n",
        "from livelossplot.tf_keras import PlotLossesCallback\n",
        "from livelossplot import PlotLossesKeras"
      ],
      "execution_count": 1,
      "outputs": []
    },
    {
      "cell_type": "code",
      "metadata": {
        "colab": {
          "base_uri": "https://localhost:8080/",
          "height": 284
        },
        "id": "JYo8ZkG4iiYd",
        "outputId": "aba83447-ad1c-422e-a35d-1b406ddf5c50"
      },
      "source": [
        "plt.imshow(plt.imread(\"/content/Gesture Image Data/6/1.jpg\"))"
      ],
      "execution_count": 2,
      "outputs": [
        {
          "output_type": "execute_result",
          "data": {
            "text/plain": [
              "<matplotlib.image.AxesImage at 0x7efef0ebf2e0>"
            ]
          },
          "metadata": {},
          "execution_count": 2
        },
        {
          "output_type": "display_data",
          "data": {
            "text/plain": [
              "<Figure size 432x288 with 1 Axes>"
            ],
            "image/png": "[encoded data removed]"
          },
          "metadata": {
            "needs_background": "light"
          }
        }
      ]
    },
    {
      "cell_type": "markdown",
      "metadata": {
        "id": "ATgv4vsFrtWC"
      },
      "source": [
        "### Load all the Images"
      ]
    },
    {
      "cell_type": "code",
      "metadata": {
        "id": "fs_MBu6osz-J"
      },
      "source": [
        "uniq_labels = sorted(os.listdir('/content/Gesture Image Data'))"
      ],
      "execution_count": 3,
      "outputs": []
    },
    {
      "cell_type": "code",
      "metadata": {
        "colab": {
          "base_uri": "https://localhost:8080/"
        },
        "id": "Z-25NlmPs3bu",
        "outputId": "7f65915d-c474-4f09-dad0-9cdc82f702be"
      },
      "source": [
        "uniq_labels"
      ],
      "execution_count": 4,
      "outputs": [
        {
          "output_type": "execute_result",
          "data": {
            "text/plain": [
              "['0',\n",
              " '1',\n",
              " '2',\n",
              " '3',\n",
              " '4',\n",
              " '5',\n",
              " '6',\n",
              " '7',\n",
              " '8',\n",
              " '9',\n",
              " 'A',\n",
              " 'B',\n",
              " 'C',\n",
              " 'D',\n",
              " 'E',\n",
              " 'F',\n",
              " 'G',\n",
              " 'H',\n",
              " 'I',\n",
              " 'J',\n",
              " 'K',\n",
              " 'L',\n",
              " 'M',\n",
              " 'N',\n",
              " 'O',\n",
              " 'P',\n",
              " 'Q',\n",
              " 'R',\n",
              " 'S',\n",
              " 'T',\n",
              " 'U',\n",
              " 'V',\n",
              " 'W',\n",
              " 'X',\n",
              " 'Y',\n",
              " 'Z',\n",
              " '_']"
            ]
          },
          "metadata": {},
          "execution_count": 4
        }
      ]
    },
    {
      "cell_type": "code",
      "metadata": {
        "id": "a69ZI-AZijz9"
      },
      "source": [
        "def load_dataset(directory):\n",
        "\n",
        "  images = []\n",
        "  labels = []\n",
        "\n",
        " \n",
        "  for idx, label in tqdm(enumerate(uniq_labels)):\n",
        "    for file in os.listdir(directory+label):\n",
        "      filepath = directory+label+\"/\"+file\n",
        "      img = cv2.resize(cv2.imread(filepath),(50,50))\n",
        "      img = img /255\n",
        "      \n",
        "      images.append(img)\n",
        "      labels.append(idx)\n",
        "\n",
        "  images = np.asarray(images)\n",
        "  labels = np.asarray(labels)\n",
        "  return images, labels"
      ],
      "execution_count": 5,
      "outputs": []
    },
    {
      "cell_type": "markdown",
      "metadata": {
        "id": "rwXr8NUzxceq"
      },
      "source": [
        "### Loading Dataset"
      ]
    },
    {
      "cell_type": "code",
      "metadata": {
        "colab": {
          "base_uri": "https://localhost:8080/"
        },
        "id": "DvZ41-jIvp15",
        "outputId": "27ec3876-6cee-43e1-8bfb-f7d05d68f4ee"
      },
      "source": [
        "X, y = load_dataset('/content/Gesture Image Data/')"
      ],
      "execution_count": 6,
      "outputs": [
        {
          "output_type": "stream",
          "name": "stderr",
          "text": [
            "37it [00:23,  1.59it/s]\n"
          ]
        }
      ]
    },
    {
      "cell_type": "code",
      "metadata": {
        "colab": {
          "base_uri": "https://localhost:8080/"
        },
        "id": "TWN2LAVnv7PR",
        "outputId": "a65f5c9c-176b-47d5-8f2c-6ff877981f04"
      },
      "source": [
        "\n",
        "X.shape, y.shape"
      ],
      "execution_count": 7,
      "outputs": [
        {
          "output_type": "execute_result",
          "data": {
            "text/plain": [
              "((55500, 50, 50, 3), (55500,))"
            ]
          },
          "metadata": {},
          "execution_count": 7
        }
      ]
    },
    {
      "cell_type": "code",
      "metadata": {
        "colab": {
          "base_uri": "https://localhost:8080/"
        },
        "id": "SG4532uBwEN0",
        "outputId": "85058563-254e-4c81-b928-77fd9c9e86be"
      },
      "source": [
        "y[1499]"
      ],
      "execution_count": 8,
      "outputs": [
        {
          "output_type": "execute_result",
          "data": {
            "text/plain": [
              "0"
            ]
          },
          "metadata": {},
          "execution_count": 8
        }
      ]
    },
    {
      "cell_type": "markdown",
      "metadata": {
        "id": "xCU9mviGxXyc"
      },
      "source": [
        "### Converting to Categorical"
      ]
    },
    {
      "cell_type": "code",
      "metadata": {
        "id": "2wnvT_kfwbUJ"
      },
      "source": [
        "y = tf.keras.utils.to_categorical(y, num_classes = len(uniq_labels))"
      ],
      "execution_count": 9,
      "outputs": []
    },
    {
      "cell_type": "code",
      "metadata": {
        "colab": {
          "base_uri": "https://localhost:8080/"
        },
        "id": "GvwbhpS4xU8b",
        "outputId": "f70082a0-0a04-4bed-d6dd-200093512738"
      },
      "source": [
        "y[0]"
      ],
      "execution_count": 10,
      "outputs": [
        {
          "output_type": "execute_result",
          "data": {
            "text/plain": [
              "array([1., 0., 0., 0., 0., 0., 0., 0., 0., 0., 0., 0., 0., 0., 0., 0., 0.,\n",
              "       0., 0., 0., 0., 0., 0., 0., 0., 0., 0., 0., 0., 0., 0., 0., 0., 0.,\n",
              "       0., 0., 0.], dtype=float32)"
            ]
          },
          "metadata": {},
          "execution_count": 10
        }
      ]
    },
    {
      "cell_type": "markdown",
      "metadata": {
        "id": "Y_W5eoW6xfln"
      },
      "source": [
        "### Splitting Data into train and test"
      ]
    },
    {
      "cell_type": "code",
      "metadata": {
        "colab": {
          "base_uri": "https://localhost:8080/"
        },
        "id": "lz9T7rVyyBum",
        "outputId": "29c9eedf-7a72-4f6c-a815-70e13a4aa73b"
      },
      "source": [
        "len(X)*0.1"
      ],
      "execution_count": 11,
      "outputs": [
        {
          "output_type": "execute_result",
          "data": {
            "text/plain": [
              "5550.0"
            ]
          },
          "metadata": {},
          "execution_count": 11
        }
      ]
    },
    {
      "cell_type": "code",
      "metadata": {
        "id": "YcY34r4zxovK"
      },
      "source": [
        "from sklearn.model_selection import train_test_split"
      ],
      "execution_count": 12,
      "outputs": []
    },
    {
      "cell_type": "code",
      "metadata": {
        "id": "52A-9A_lx6oP"
      },
      "source": [
        "X_train, X_test, y_train, y_test = train_test_split(X, y, test_size = 0.1, random_state = 42, stratify=y)"
      ],
      "execution_count": 13,
      "outputs": []
    },
    {
      "cell_type": "code",
      "metadata": {
        "colab": {
          "base_uri": "https://localhost:8080/",
          "height": 36
        },
        "id": "BfBI4nvJwTRC",
        "outputId": "2761358a-784a-44cf-df20-8beb93236046"
      },
      "source": [
        "uniq_labels[np.argmax(y_test[200])]"
      ],
      "execution_count": 14,
      "outputs": [
        {
          "output_type": "execute_result",
          "data": {
            "text/plain": [
              "'Z'"
            ],
            "application/vnd.google.colaboratory.intrinsic+json": {
              "type": "string"
            }
          },
          "metadata": {},
          "execution_count": 14
        }
      ]
    },
    {
      "cell_type": "markdown",
      "metadata": {
        "id": "fZLedLTSxboW"
      },
      "source": [
        "### Checking"
      ]
    },
    {
      "cell_type": "code",
      "metadata": {
        "id": "b8sdTJ2y35pJ",
        "colab": {
          "base_uri": "https://localhost:8080/",
          "height": 472
        },
        "outputId": "949b47ed-9bb6-4826-d31d-aa6da9401401"
      },
      "source": [
        "plt.figure(figsize = (10,10))\n",
        "plt.subplot(3, 2, 1)\n",
        "plt.imshow(X_test[200])\n",
        "plt.title(\"Actual \" + str(uniq_labels[np.argmax(y_test[200])]))\n",
        "\n",
        "plt.subplot(3, 2, 2)\n",
        "plt.imshow(X_test[2000])\n",
        "plt.title(\"Actual \"+ str(uniq_labels[np.argmax(y_test[2000])]))\n",
        "\n",
        "plt.subplot(3, 2, 3)\n",
        "plt.imshow(X_test[300])\n",
        "plt.title(\"Actual \"+ str(uniq_labels[np.argmax(y_test[300])]))\n",
        "\n",
        "plt.subplot(3, 2, 4)\n",
        "plt.imshow(X_test[350])\n",
        "plt.title(\"Actual \"+ str(uniq_labels[np.argmax(y_test[350])]))\n",
        "\n",
        "plt.suptitle(\"Actual\")\n",
        "plt.show()"
      ],
      "execution_count": 15,
      "outputs": [
        {
          "output_type": "display_data",
          "data": {
            "text/plain": [
              "<Figure size 720x720 with 4 Axes>"
            ],
            "image/png": "[encoded data removed]"
          },
          "metadata": {
            "needs_background": "light"
          }
        }
      ]
    },
    {
      "cell_type": "markdown",
      "metadata": {
        "id": "KRKpRSXLxj_2"
      },
      "source": [
        "### Model Building"
      ]
    },
    {
      "cell_type": "code",
      "metadata": {
        "id": "H_ufdjZ1u8ts"
      },
      "source": [
        "def build_model():\n",
        "\n",
        "  model = tf.keras.models.Sequential([\n",
        "                                      \n",
        "          tf.keras.layers.Conv2D(filters = 64, kernel_size = (3,3), strides = (1, 1), \n",
        "                                 activation = 'relu', input_shape = (50, 50, 3)),\n",
        "\n",
        "          tf.keras.layers.Conv2D(filters = 64, kernel_size = (3,3), strides = (1, 1), \n",
        "                                 activation = 'relu'),\n",
        "                            \n",
        "          tf.keras.layers.BatchNormalization(),\n",
        "          \n",
        "          tf.keras.layers.MaxPool2D(pool_size = (2, 2)),\n",
        "\n",
        "          tf.keras.layers.GlobalAveragePooling2D(),\n",
        "\n",
        "          tf.keras.layers.Dense(units = 256, activation = 'relu'),\n",
        "\n",
        "          tf.keras.layers.BatchNormalization(),\n",
        "\n",
        "          tf.keras.layers.Dense(units = 37, activation = 'softmax')\n",
        "\n",
        "        ])\n",
        "\n",
        "  model.summary()\n",
        "\n",
        "  print(\"Model Successfully Created!\")\n",
        "\n",
        "  return model"
      ],
      "execution_count": 16,
      "outputs": []
    },
    {
      "cell_type": "code",
      "metadata": {
        "colab": {
          "base_uri": "https://localhost:8080/"
        },
        "id": "XHHUJy4Szbnz",
        "outputId": "2ef42ab6-0f98-4e05-8d59-8591bb709765"
      },
      "source": [
        "model = build_model()"
      ],
      "execution_count": 17,
      "outputs": [
        {
          "output_type": "stream",
          "name": "stdout",
          "text": [
            "Model: \"sequential\"\n",
            "_________________________________________________________________\n",
            " Layer (type)                Output Shape              Param #   \n",
            "=================================================================\n",
            " conv2d (Conv2D)             (None, 48, 48, 64)        1792      \n",
            "                                                                 \n",
            " conv2d_1 (Conv2D)           (None, 46, 46, 64)        36928     \n",
            "                                                                 \n",
            " batch_normalization (BatchN  (None, 46, 46, 64)       256       \n",
            " ormalization)                                                   \n",
            "                                                                 \n",
            " max_pooling2d (MaxPooling2D  (None, 23, 23, 64)       0         \n",
            " )                                                               \n",
            "                                                                 \n",
            " global_average_pooling2d (G  (None, 64)               0         \n",
            " lobalAveragePooling2D)                                          \n",
            "                                                                 \n",
            " dense (Dense)               (None, 256)               16640     \n",
            "                                                                 \n",
            " batch_normalization_1 (Batc  (None, 256)              1024      \n",
            " hNormalization)                                                 \n",
            "                                                                 \n",
            " dense_1 (Dense)             (None, 37)                9509      \n",
            "                                                                 \n",
            "=================================================================\n",
            "Total params: 66,149\n",
            "Trainable params: 65,509\n",
            "Non-trainable params: 640\n",
            "_________________________________________________________________\n",
            "Model Successfully Created!\n"
          ]
        }
      ]
    },
    {
      "cell_type": "markdown",
      "metadata": {
        "id": "mgfV8tFb7hLA"
      },
      "source": [
        "### Compiling the model"
      ]
    },
    {
      "cell_type": "code",
      "metadata": {
        "id": "h7idJo1U7jgk"
      },
      "source": [
        "model.compile(loss = 'categorical_crossentropy', optimizer = 'Adam', metrics = [\"accuracy\"])"
      ],
      "execution_count": 18,
      "outputs": []
    },
    {
      "cell_type": "markdown",
      "metadata": {
        "id": "P2p3rfAKG4Z3"
      },
      "source": [
        "### Loading Model"
      ]
    },
    {
      "cell_type": "code",
      "metadata": {
        "id": "P6VAGoa_G6cR"
      },
      "source": [
        "# loaded_model = tf.keras.models.load_model('/content/drive/MyDrive/Sign Language Prediction/model.h5')"
      ],
      "execution_count": 19,
      "outputs": []
    },
    {
      "cell_type": "markdown",
      "metadata": {
        "id": "0JKcgoTQzjP6"
      },
      "source": [
        "### Creating Checkpoints and Callbacks"
      ]
    },
    {
      "cell_type": "markdown",
      "metadata": {
        "id": "HS6RdPkt1ENW"
      },
      "source": [
        "### Custom Callbacks"
      ]
    },
    {
      "cell_type": "code",
      "metadata": {
        "id": "PghuPKVf1Laz"
      },
      "source": [
        "class ModelAnalysis(tf.keras.callbacks.Callback):\n",
        "\n",
        "  def on_epoch_end(self, epoch, logs = None):\n",
        "\n",
        "    plt.figure(figsize = (20,20))\n",
        "\n",
        "    a = random.randint(0, 2775)\n",
        "    plt.subplot(3, 2, 1)\n",
        "    plt.imshow(X_test[a])\n",
        "    plt.title(\"Actual class \" + str(uniq_labels[np.argmax(y_test[a])]))\n",
        "\n",
        "    plt.subplot(3, 2, 2)\n",
        "    plt.imshow(X_test[a])\n",
        "    test0 = np.expand_dims(X_test[a], axis = 0)\n",
        "    plt.title(\"Predicted class \" + str(uniq_labels[np.argmax(model.predict(test0))]))\n",
        "\n",
        "    b = random.randint(0, 2775)\n",
        "\n",
        "    plt.subplot(3, 2, 3)\n",
        "    plt.imshow(X_test[b])\n",
        "    plt.title(\"Actual class \" + str(uniq_labels[np.argmax(y_test[b])]))\n",
        "\n",
        "    plt.subplot(3, 2, 4)\n",
        "    plt.imshow(X_test[b])\n",
        "    test1 = np.expand_dims(X_test[b], axis = 0)\n",
        "    plt.title(\"Predicted class \" + str(uniq_labels[np.argmax(model.predict(test1))]))\n",
        "\n",
        "    c = random.randint(0, 2775)\n",
        "\n",
        "    plt.subplot(3, 2, 5)\n",
        "    plt.imshow(X_test[c])\n",
        "    plt.title(\"Actual class \" + str(uniq_labels[np.argmax(y_test[c])]))\n",
        "\n",
        "    plt.subplot(3, 2, 6)\n",
        "    plt.imshow(X_test[c])\n",
        "    test2 = np.expand_dims(X_test[c], axis = 0)\n",
        "    plt.title(\"Predicted class \" + str(uniq_labels[np.argmax(model.predict(test2))]))\n",
        "\n",
        "\n",
        "    plt.suptitle(\"Model Analysis at Epoch\")\n",
        "    plt.show()\n"
      ],
      "execution_count": 20,
      "outputs": []
    },
    {
      "cell_type": "code",
      "source": [
        "def callbacks() -> list:\n",
        "\n",
        "    from tensorflow.keras.callbacks import ModelCheckpoint, EarlyStopping, TensorBoard, ReduceLROnPlateau\n",
        "\n",
        "    run_name = \"run 1\"\n",
        "    save_path = Path(\"models\")\n",
        "    os.makedirs(save_path/\"logs\", exist_ok=True)\n",
        "    \n",
        "    checkpoint = ModelCheckpoint(save_path, monitor=\"val_loss\", save_best_only=True, \n",
        "                                                    verbose=1)\n",
        "\n",
        "    earlystopping = EarlyStopping(monitor=\"val_loss\", verbose=1, restore_best_weights = True,\n",
        "                                                    patience=5)\n",
        "\n",
        "    logger = TensorBoard(save_path/\"logs\"/run_name, histogram_freq=2, write_graph=True, write_images=True)\n",
        "\n",
        "    lr = ReduceLROnPlateau(monitor=\"val_loss\", factor=0.1, patience=2, verbose=1,\n",
        "                                         min_delta=0.0001, cooldown=0, min_lr=0)\n",
        "    \n",
        "    ob = ModelAnalysis()\n",
        "    \n",
        "    return [checkpoint, earlystopping, lr, logger, PlotLossesKeras(), ob]"
      ],
      "metadata": {
        "id": "XOW4yDLjEARS"
      },
      "execution_count": 21,
      "outputs": []
    },
    {
      "cell_type": "markdown",
      "metadata": {
        "id": "a1pPtE0-6ksC"
      },
      "source": [
        "### Training the Model"
      ]
    },
    {
      "cell_type": "code",
      "metadata": {
        "id": "5OvQMjfE6mui"
      },
      "source": [
        "history = model.fit(X_train, y_train, epochs = 5, batch_size = 64, verbose = 1,\n",
        "                    validation_data = (X_test, y_test), shuffle = True,\n",
        "                    callbacks = callbacks)"
      ],
      "execution_count": null,
      "outputs": []
    },
    {
      "cell_type": "markdown",
      "metadata": {
        "id": "mGIC_i_vfR6S"
      },
      "source": [
        "### Saving the History Variable"
      ]
    },
    {
      "cell_type": "code",
      "metadata": {
        "id": "osWSdlOMe3xo"
      },
      "source": [
        "import joblib"
      ],
      "execution_count": null,
      "outputs": []
    },
    {
      "cell_type": "code",
      "metadata": {
        "id": "HxHsw0tffW6Y"
      },
      "source": [
        "joblib.dump(history.history, '/content/drive/MyDrive/Sign Language Prediction/history.pickle')"
      ],
      "execution_count": null,
      "outputs": []
    },
    {
      "cell_type": "code",
      "metadata": {
        "id": "7jIz76ynfqYg"
      },
      "source": [],
      "execution_count": null,
      "outputs": []
    }
  ]
}